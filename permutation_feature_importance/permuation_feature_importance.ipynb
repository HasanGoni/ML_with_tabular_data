{
 "cells": [
  {
   "cell_type": "code",
   "execution_count": 20,
   "metadata": {},
   "outputs": [],
   "source": [
    "import numpy as np\n",
    "import pandas as pd\n",
    "from sklearn.datasets import load_wine\n",
    "from sklearn.model_selection import train_test_split\n",
    "from sklearn.preprocessing import StandardScaler\n",
    "from sklearn.ensemble import RandomForestClassifier\n",
    "from sklearn.inspection import permutation_importance\n",
    "import matplotlib.pyplot as plt"
   ]
  },
  {
   "cell_type": "code",
   "execution_count": 4,
   "metadata": {},
   "outputs": [
    {
     "data": {
      "text/html": [
       "<div>\n",
       "<style scoped>\n",
       "    .dataframe tbody tr th:only-of-type {\n",
       "        vertical-align: middle;\n",
       "    }\n",
       "\n",
       "    .dataframe tbody tr th {\n",
       "        vertical-align: top;\n",
       "    }\n",
       "\n",
       "    .dataframe thead th {\n",
       "        text-align: right;\n",
       "    }\n",
       "</style>\n",
       "<table border=\"1\" class=\"dataframe\">\n",
       "  <thead>\n",
       "    <tr style=\"text-align: right;\">\n",
       "      <th></th>\n",
       "      <th>alcohol</th>\n",
       "      <th>malic_acid</th>\n",
       "      <th>ash</th>\n",
       "      <th>alcalinity_of_ash</th>\n",
       "      <th>magnesium</th>\n",
       "      <th>total_phenols</th>\n",
       "      <th>flavanoids</th>\n",
       "      <th>nonflavanoid_phenols</th>\n",
       "      <th>proanthocyanins</th>\n",
       "      <th>color_intensity</th>\n",
       "      <th>hue</th>\n",
       "      <th>od280/od315_of_diluted_wines</th>\n",
       "      <th>proline</th>\n",
       "      <th>target</th>\n",
       "    </tr>\n",
       "  </thead>\n",
       "  <tbody>\n",
       "    <tr>\n",
       "      <th>0</th>\n",
       "      <td>14.23</td>\n",
       "      <td>1.71</td>\n",
       "      <td>2.43</td>\n",
       "      <td>15.6</td>\n",
       "      <td>127.0</td>\n",
       "      <td>2.80</td>\n",
       "      <td>3.06</td>\n",
       "      <td>0.28</td>\n",
       "      <td>2.29</td>\n",
       "      <td>5.64</td>\n",
       "      <td>1.04</td>\n",
       "      <td>3.92</td>\n",
       "      <td>1065.0</td>\n",
       "      <td>0</td>\n",
       "    </tr>\n",
       "    <tr>\n",
       "      <th>1</th>\n",
       "      <td>13.20</td>\n",
       "      <td>1.78</td>\n",
       "      <td>2.14</td>\n",
       "      <td>11.2</td>\n",
       "      <td>100.0</td>\n",
       "      <td>2.65</td>\n",
       "      <td>2.76</td>\n",
       "      <td>0.26</td>\n",
       "      <td>1.28</td>\n",
       "      <td>4.38</td>\n",
       "      <td>1.05</td>\n",
       "      <td>3.40</td>\n",
       "      <td>1050.0</td>\n",
       "      <td>0</td>\n",
       "    </tr>\n",
       "    <tr>\n",
       "      <th>2</th>\n",
       "      <td>13.16</td>\n",
       "      <td>2.36</td>\n",
       "      <td>2.67</td>\n",
       "      <td>18.6</td>\n",
       "      <td>101.0</td>\n",
       "      <td>2.80</td>\n",
       "      <td>3.24</td>\n",
       "      <td>0.30</td>\n",
       "      <td>2.81</td>\n",
       "      <td>5.68</td>\n",
       "      <td>1.03</td>\n",
       "      <td>3.17</td>\n",
       "      <td>1185.0</td>\n",
       "      <td>0</td>\n",
       "    </tr>\n",
       "    <tr>\n",
       "      <th>3</th>\n",
       "      <td>14.37</td>\n",
       "      <td>1.95</td>\n",
       "      <td>2.50</td>\n",
       "      <td>16.8</td>\n",
       "      <td>113.0</td>\n",
       "      <td>3.85</td>\n",
       "      <td>3.49</td>\n",
       "      <td>0.24</td>\n",
       "      <td>2.18</td>\n",
       "      <td>7.80</td>\n",
       "      <td>0.86</td>\n",
       "      <td>3.45</td>\n",
       "      <td>1480.0</td>\n",
       "      <td>0</td>\n",
       "    </tr>\n",
       "    <tr>\n",
       "      <th>4</th>\n",
       "      <td>13.24</td>\n",
       "      <td>2.59</td>\n",
       "      <td>2.87</td>\n",
       "      <td>21.0</td>\n",
       "      <td>118.0</td>\n",
       "      <td>2.80</td>\n",
       "      <td>2.69</td>\n",
       "      <td>0.39</td>\n",
       "      <td>1.82</td>\n",
       "      <td>4.32</td>\n",
       "      <td>1.04</td>\n",
       "      <td>2.93</td>\n",
       "      <td>735.0</td>\n",
       "      <td>0</td>\n",
       "    </tr>\n",
       "  </tbody>\n",
       "</table>\n",
       "</div>"
      ],
      "text/plain": [
       "   alcohol  malic_acid   ash  alcalinity_of_ash  magnesium  total_phenols  \\\n",
       "0    14.23        1.71  2.43               15.6      127.0           2.80   \n",
       "1    13.20        1.78  2.14               11.2      100.0           2.65   \n",
       "2    13.16        2.36  2.67               18.6      101.0           2.80   \n",
       "3    14.37        1.95  2.50               16.8      113.0           3.85   \n",
       "4    13.24        2.59  2.87               21.0      118.0           2.80   \n",
       "\n",
       "   flavanoids  nonflavanoid_phenols  proanthocyanins  color_intensity   hue  \\\n",
       "0        3.06                  0.28             2.29             5.64  1.04   \n",
       "1        2.76                  0.26             1.28             4.38  1.05   \n",
       "2        3.24                  0.30             2.81             5.68  1.03   \n",
       "3        3.49                  0.24             2.18             7.80  0.86   \n",
       "4        2.69                  0.39             1.82             4.32  1.04   \n",
       "\n",
       "   od280/od315_of_diluted_wines  proline  target  \n",
       "0                          3.92   1065.0       0  \n",
       "1                          3.40   1050.0       0  \n",
       "2                          3.17   1185.0       0  \n",
       "3                          3.45   1480.0       0  \n",
       "4                          2.93    735.0       0  "
      ]
     },
     "execution_count": 4,
     "metadata": {},
     "output_type": "execute_result"
    }
   ],
   "source": [
    "data = load_wine(as_frame=True)\n",
    "data.frame.head()"
   ]
  },
  {
   "cell_type": "code",
   "execution_count": 12,
   "metadata": {},
   "outputs": [],
   "source": [
    "X_train, X_test, y_train, y_test = train_test_split(\n",
    "    data.data, data.target, \n",
    "    random_state=42\n",
    ")\n",
    "scaler= StandardScaler()\n",
    "\n",
    "# fitting only with train data\n",
    "scaler.fit(X_train)\n",
    "\n",
    "\n",
    "X_train = scaler.transform(X_train)\n",
    "# this transformation is based on trained on training data\n",
    "X_test = scaler.transform(X_test)"
   ]
  },
  {
   "cell_type": "markdown",
   "metadata": {},
   "source": [
    "# Classifier"
   ]
  },
  {
   "cell_type": "code",
   "execution_count": 13,
   "metadata": {},
   "outputs": [
    {
     "data": {
      "text/plain": [
       "0.9111111111111111"
      ]
     },
     "execution_count": 13,
     "metadata": {},
     "output_type": "execute_result"
    }
   ],
   "source": [
    "rf_clf = RandomForestClassifier(\n",
    "    n_estimators=10,\n",
    "    random_state=42)\n",
    "\n",
    "rf_clf.fit(\n",
    "    X_train,\n",
    "    y_train\n",
    ")\n",
    "rf_clf.score(\n",
    "    X_test,\n",
    "    y_test\n",
    ")"
   ]
  },
  {
   "cell_type": "code",
   "execution_count": 49,
   "metadata": {},
   "outputs": [],
   "source": [
    "def perm_feature_importance(\n",
    "    clf,\n",
    "    X,\n",
    "    y,\n",
    "    top_limit=None):\n",
    "\n",
    "    bunch = permutation_importance(\n",
    "        clf,\n",
    "        X,\n",
    "        y,\n",
    "        n_repeats=50,\n",
    "        random_state=42\n",
    "    )\n",
    "\n",
    "    # Avg feature importance\n",
    "    imp_means = bunch.importances_mean\n",
    "\n",
    "    ordered_imp_means_args = np.argsort(\n",
    "        imp_means\n",
    "    )[::-1]\n",
    "\n",
    "    # If no limit print all features\n",
    "    if top_limit is None:\n",
    "        top_limit = len(ordered_imp_means_args)\n",
    "\n",
    "    # Print relevant information\n",
    "\n",
    "    imp_feature_index = []\n",
    "    imp_feature_names = []\n",
    "    for i, _ in zip(ordered_imp_means_args,\n",
    "                    range(top_limit)):\n",
    "        name = data.feature_names[i]\n",
    "        # In case of want to see top features\n",
    "        imp_feature_names.append(name)\n",
    "        imp_feature_index.append(i)\n",
    "        imp_score = imp_means[i]\n",
    "        imp_std = bunch.importances_std[i]\n",
    "        print(f'Feature {name} with index {i}\\n avg imp score {imp_score:.3f} +- {imp_std:.3f}\\n')\n",
    "    imp_x = X[:, imp_feature_index]\n",
    "\n",
    "    return imp_x, imp_feature_index"
   ]
  },
  {
   "cell_type": "code",
   "execution_count": 50,
   "metadata": {},
   "outputs": [
    {
     "name": "stdout",
     "output_type": "stream",
     "text": [
      "Feature flavanoids with index 6\n",
      " avg imp score 0.227 +- 0.025\n",
      "\n",
      "Feature proline with index 12\n",
      " avg imp score 0.142 +- 0.019\n",
      "\n",
      "Feature color_intensity with index 9\n",
      " avg imp score 0.112 +- 0.023\n",
      "\n",
      "Feature od280/od315_of_diluted_wines with index 11\n",
      " avg imp score 0.007 +- 0.005\n",
      "\n",
      "Feature total_phenols with index 5\n",
      " avg imp score 0.003 +- 0.004\n",
      "\n",
      "Feature malic_acid with index 1\n",
      " avg imp score 0.002 +- 0.004\n",
      "\n",
      "Feature proanthocyanins with index 8\n",
      " avg imp score 0.002 +- 0.003\n",
      "\n",
      "Feature hue with index 10\n",
      " avg imp score 0.002 +- 0.003\n",
      "\n",
      "Feature nonflavanoid_phenols with index 7\n",
      " avg imp score 0.000 +- 0.000\n",
      "\n",
      "Feature magnesium with index 4\n",
      " avg imp score 0.000 +- 0.000\n",
      "\n",
      "Feature alcalinity_of_ash with index 3\n",
      " avg imp score 0.000 +- 0.000\n",
      "\n",
      "Feature ash with index 2\n",
      " avg imp score 0.000 +- 0.000\n",
      "\n",
      "Feature alcohol with index 0\n",
      " avg imp score 0.000 +- 0.000\n",
      "\n"
     ]
    }
   ],
   "source": [
    "new_x, imp_index = perm_feature_importance(rf_clf,\n",
    "                   X_train, y_train)"
   ]
  },
  {
   "cell_type": "code",
   "execution_count": 38,
   "metadata": {},
   "outputs": [],
   "source": [
    "def permutation_importance_viz(\n",
    "    clf,\n",
    "    X_train=X_train,\n",
    "    y_train=y_train,\n",
    "    n_repeats=50,\n",
    "    training_set=True\n",
    "    ):\n",
    "\n",
    "    result = permutation_importance(\n",
    "                               rf_clf,\n",
    "                               X_train,\n",
    "                               y_train,\n",
    "                               n_repeats=n_repeats,\n",
    "                               random_state=42,\n",
    "                               n_jobs=2\n",
    "    )\n",
    "    sorted_idx = result.importances_mean.argsort()\n",
    "    feature_names = [data.feature_names[i] for i in sorted_idx]\n",
    "\n",
    "    fig, ax = plt.subplots()\n",
    "    ax.boxplot(\n",
    "    \n",
    "    result.importances[sorted_idx].T,\n",
    "    \n",
    "    vert=False,\n",
    "    \n",
    "    labels=feature_names\n",
    "    )\n",
    "    if training_set:\n",
    "    \n",
    "        ax.set_title(\"Permutation Importances (train set)\")\n",
    "    else:\n",
    "        ax.set_title(\"Permutation Importances (test set)\")\n",
    "    fig.tight_layout()"
   ]
  },
  {
   "cell_type": "code",
   "execution_count": 32,
   "metadata": {},
   "outputs": [
    {
     "data": {
      "image/png": "[encoded data removed]",
      "text/plain": [
       "<Figure size 432x288 with 1 Axes>"
      ]
     },
     "metadata": {
      "needs_background": "light"
     },
     "output_type": "display_data"
    }
   ],
   "source": [
    "permutation_importance_viz(\n",
    "    rf_clf,\n",
    "    X_train=X_train,\n",
    "    y_train=y_train,\n",
    "    n_repeats=50,\n",
    "    training_set=True\n",
    ")"
   ]
  },
  {
   "cell_type": "code",
   "execution_count": 33,
   "metadata": {},
   "outputs": [
    {
     "data": {
      "image/png": "[encoded data removed]",
      "text/plain": [
       "<Figure size 432x288 with 1 Axes>"
      ]
     },
     "metadata": {
      "needs_background": "light"
     },
     "output_type": "display_data"
    }
   ],
   "source": [
    "permutation_importance_viz(\n",
    "    rf_clf,\n",
    "    X_train=X_test,\n",
    "    y_train=y_test,\n",
    "    n_repeats=50,\n",
    "    training_set=False\n",
    ")"
   ]
  },
  {
   "cell_type": "code",
   "execution_count": 51,
   "metadata": {},
   "outputs": [
    {
     "name": "stdout",
     "output_type": "stream",
     "text": [
      "Feature flavanoids with index 6\n",
      " avg imp score 0.227 +- 0.025\n",
      "\n",
      "Feature proline with index 12\n",
      " avg imp score 0.142 +- 0.019\n",
      "\n",
      "Feature color_intensity with index 9\n",
      " avg imp score 0.112 +- 0.023\n",
      "\n",
      "Feature flavanoids with index 6\n",
      " avg imp score 0.202 +- 0.047\n",
      "\n",
      "Feature proline with index 12\n",
      " avg imp score 0.143 +- 0.042\n",
      "\n",
      "Feature color_intensity with index 9\n",
      " avg imp score 0.112 +- 0.043\n",
      "\n"
     ]
    }
   ],
   "source": [
    "imp_X_train, imp_index = perm_feature_importance(rf_clf,\n",
    "X_train, y_train, top_limit=3\n",
    ")\n",
    "imp_X_test,_ = perm_feature_importance(rf_clf,\n",
    "X_test, y_test, top_limit=3\n",
    ")"
   ]
  },
  {
   "cell_type": "code",
   "execution_count": 48,
   "metadata": {},
   "outputs": [
    {
     "data": {
      "text/plain": [
       "1.0"
      ]
     },
     "execution_count": 48,
     "metadata": {},
     "output_type": "execute_result"
    }
   ],
   "source": [
    "rf = RandomForestClassifier(\n",
    "    n_estimators=10,\n",
    "    random_state=42)\n",
    "rf.fit(imp_X_train, y_train)\n",
    "rf.score(imp_X_train,y_train)"
   ]
  },
  {
   "cell_type": "code",
   "execution_count": 55,
   "metadata": {},
   "outputs": [
    {
     "data": {
      "text/plain": [
       "0.9333333333333333"
      ]
     },
     "execution_count": 55,
     "metadata": {},
     "output_type": "execute_result"
    }
   ],
   "source": [
    "rf.score(X_test[:, imp_index], y_test)"
   ]
  },
  {
   "cell_type": "code",
   "execution_count": 56,
   "metadata": {},
   "outputs": [
    {
     "ename": "ModuleNotFoundError",
     "evalue": "No module named 'xgboost'",
     "output_type": "error",
     "traceback": [
      "\u001b[0;31m---------------------------------------------------------------------------\u001b[0m",
      "\u001b[0;31mModuleNotFoundError\u001b[0m                       Traceback (most recent call last)",
      "\u001b[0;32m<ipython-input-56-e528dc1a32ff>\u001b[0m in \u001b[0;36m<module>\u001b[0;34m\u001b[0m\n\u001b[0;32m----> 1\u001b[0;31m \u001b[0;32mimport\u001b[0m \u001b[0mxgboost\u001b[0m\u001b[0;34m\u001b[0m\u001b[0;34m\u001b[0m\u001b[0m\n\u001b[0m",
      "\u001b[0;31mModuleNotFoundError\u001b[0m: No module named 'xgboost'"
     ]
    }
   ],
   "source": [
    "import xgboost"
   ]
  },
  {
   "cell_type": "code",
   "execution_count": null,
   "metadata": {},
   "outputs": [],
   "source": []
  }
 ],
 "metadata": {
  "interpreter": {
   "hash": "9833186cec29bed688f4a68bc91695b6168efd711d41fc9a0fddfdeea5793905"
  },
  "kernelspec": {
   "display_name": "Python 3.8.3 ('fastai')",
   "language": "python",
   "name": "python3"
  },
  "language_info": {
   "codemirror_mode": {
    "name": "ipython",
    "version": 3
   },
   "file_extension": ".py",
   "mimetype": "text/x-python",
   "name": "python",
   "nbconvert_exporter": "python",
   "pygments_lexer": "ipython3",
   "version": "3.8.3"
  },
  "orig_nbformat": 4
 },
 "nbformat": 4,
 "nbformat_minor": 2
}
